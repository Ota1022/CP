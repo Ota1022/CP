{
 "metadata": {
  "language_info": {
   "codemirror_mode": {
    "name": "ipython",
    "version": 3
   },
   "file_extension": ".py",
   "mimetype": "text/x-python",
   "name": "python",
   "nbconvert_exporter": "python",
   "pygments_lexer": "ipython3",
   "version": "3.8.8"
  },
  "orig_nbformat": 4,
  "kernelspec": {
   "name": "python3",
   "display_name": "Python 3.8.8 64-bit ('base': conda)"
  },
  "interpreter": {
   "hash": "8479c18a240fe6377606edf314d34d4695e22aa3d07c9cc35ed68a172a35e609"
  }
 },
 "nbformat": 4,
 "nbformat_minor": 2,
 "cells": [
  {
   "source": [
    "# 標準入力"
   ],
   "cell_type": "markdown",
   "metadata": {}
  },
  {
   "cell_type": "code",
   "execution_count": null,
   "metadata": {},
   "outputs": [],
   "source": [
    "n=int(input())  #数値入力 「N」だけの入力のとき\n",
    "a,b=map(int, input().split())  #複数数値入力　「A B」みたいなスペース空いた入力のとき\n",
    "c=list(map(int, input().split()))  #リスト入力 「a1 a2 a3 ...」みたいな配列のような入力のとき\n",
    "s=[list(map(int,list(input()))) for i in range(h)]  # 二次元配列入力　二次元マップみたいな入力のとき"
   ]
  },
  {
   "source": [
    "## 入力が1行かつ区切りなしの場合\n",
    "### それぞれに変数名を与えたい時"
   ],
   "cell_type": "markdown",
   "metadata": {}
  },
  {
   "cell_type": "code",
   "execution_count": null,
   "metadata": {},
   "outputs": [],
   "source": [
    "# Stringの場合\n",
    "S = input() # ここで標準入力\n",
    "\n",
    "# intの場合\n",
    "N = int(input()) # ここで標準入力"
   ]
  },
  {
   "source": [
    "### 入力が1行で区切りありの場合"
   ],
   "cell_type": "markdown",
   "metadata": {}
  },
  {
   "cell_type": "code",
   "execution_count": null,
   "metadata": {},
   "outputs": [],
   "source": [
    "# Stringの場合\n",
    "lst1 = input().split()\n",
    "\n",
    "# intの場合\n",
    "lst2 = list(map(int, input().split()))"
   ]
  },
  {
   "source": [
    "### タプルにしたい時"
   ],
   "cell_type": "markdown",
   "metadata": {}
  },
  {
   "cell_type": "code",
   "execution_count": null,
   "metadata": {},
   "outputs": [],
   "source": [
    "# Stringの場合\n",
    "lst3 = tuple(input().split())\n",
    "\n",
    "# intの場合\n",
    "lst4 = tuple(map(int,input().split()))"
   ]
  },
  {
   "source": [
    "## 複数行の入力"
   ],
   "cell_type": "markdown",
   "metadata": {}
  },
  {
   "source": [
    "N M    # Nが列,Mが行  \n",
    "P1 Y1  \n",
    ":  \n",
    "PM YM"
   ],
   "cell_type": "markdown",
   "metadata": {}
  },
  {
   "cell_type": "code",
   "execution_count": null,
   "metadata": {},
   "outputs": [],
   "source": [
    "# 文字列\n",
    "N, M = map(int, input().split())\n",
    "P = [input().split() for i in range(M)]"
   ]
  },
  {
   "cell_type": "code",
   "execution_count": null,
   "metadata": {},
   "outputs": [],
   "source": [
    "#int\n",
    "N, M = map(int,input().split()) \n",
    "P = [list(map(int,input().split())) for i in range(M)]"
   ]
  },
  {
   "source": [
    "## 入力を高速化"
   ],
   "cell_type": "markdown",
   "metadata": {}
  },
  {
   "cell_type": "code",
   "execution_count": null,
   "metadata": {},
   "outputs": [],
   "source": [
    "import sys\n",
    "input = sys.stdin.readline"
   ]
  },
  {
   "cell_type": "code",
   "execution_count": null,
   "metadata": {},
   "outputs": [],
   "source": [
    "# Stringの場合\n",
    "L, R = input().split()\n",
    "# 出力して確認\n",
    "print(type(L), L, R)  # <class 'str'> 12 34\n",
    "\n",
    "# intの場合\n",
    "L, R = map(int,input().split())\n",
    "# 出力して確認\n",
    "print(type(L), L, R)\n",
    "# <class 'int'> 12 34"
   ]
  },
  {
   "source": [
    "# 出力"
   ],
   "cell_type": "markdown",
   "metadata": {}
  },
  {
   "cell_type": "code",
   "execution_count": 4,
   "metadata": {},
   "outputs": [
    {
     "output_type": "stream",
     "name": "stdout",
     "text": [
      "0 1 2\n012\n"
     ]
    }
   ],
   "source": [
    "l = [0, 1, 2]\n",
    "print(*l) \n",
    "print(*l, sep='')"
   ]
  },
  {
   "cell_type": "code",
   "execution_count": 5,
   "metadata": {},
   "outputs": [
    {
     "output_type": "stream",
     "name": "stdout",
     "text": [
      "0-1-2\n"
     ]
    }
   ],
   "source": [
    "l = [0, 1, 2]\n",
    "s = '-'.join([str(i) for i in l])\n",
    "print(s)"
   ]
  },
  {
   "source": [
    "# 内包表記"
   ],
   "cell_type": "markdown",
   "metadata": {}
  },
  {
   "cell_type": "code",
   "execution_count": 12,
   "metadata": {},
   "outputs": [
    {
     "output_type": "execute_result",
     "data": {
      "text/plain": [
       "[1, 3, 5, 7, 9, 11, 13, 15, 17, 19, 21, 23, 25, 27, 29]"
      ]
     },
     "metadata": {},
     "execution_count": 12
    }
   ],
   "source": [
    "#内包表記奇数のみ\n",
    "odd=[i for i in range(30) if i%2==1]\n",
    "odd"
   ]
  },
  {
   "source": [
    "# ソート"
   ],
   "cell_type": "markdown",
   "metadata": {}
  },
  {
   "cell_type": "code",
   "execution_count": 14,
   "metadata": {},
   "outputs": [
    {
     "output_type": "execute_result",
     "data": {
      "text/plain": [
       "[[5, 7], [2, 6], [3, 6], [4, 5], [1, 2]]"
      ]
     },
     "metadata": {},
     "execution_count": 14
    }
   ],
   "source": [
    "w=[[1, 2], [2, 6] , [3, 6], [4, 5], [5, 7]]\n",
    "w.sort()\n",
    "w.sort(key=lambda x:x[1],reverse=True)  #二個目の要素で降順並び替え\n",
    "w"
   ]
  },
  {
   "cell_type": "code",
   "execution_count": null,
   "metadata": {},
   "outputs": [],
   "source": []
  }
 ]
}